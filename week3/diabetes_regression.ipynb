{
 "cells": [
  {
   "cell_type": "markdown",
   "id": "a5f77753-c493-4c36-a651-2a40fc88611e",
   "metadata": {},
   "source": [
    "# diabetes_regression (DT, RF, SVR, Linear)\n",
    "\n",
    "## import Libraries"
   ]
  },
  {
   "cell_type": "code",
   "execution_count": 38,
   "id": "87e9fa8a-09e8-4b63-96dc-625c8e6dbbcd",
   "metadata": {},
   "outputs": [],
   "source": [
    "import pandas as pd\n",
    "from sklearn.model_selection import train_test_split\n",
    "from sklearn.metrics import mean_squared_error\n",
    "from sklearn.tree import DecisionTreeRegressor\n",
    "from sklearn.ensemble import RandomForestRegressor\n",
    "from sklearn.linear_model import LinearRegression\n",
    "from sklearn.svm import SVR\n",
    "from sklearn.preprocessing import StandardScaler"
   ]
  },
  {
   "cell_type": "markdown",
   "id": "8df30878-6064-4ab8-a206-c569a89b9dd7",
   "metadata": {},
   "source": [
    "## Data Preparation & Scaling"
   ]
  },
  {
   "cell_type": "code",
   "execution_count": 41,
   "id": "16b06aa4-f3d8-4a1e-93ef-a684008fd2a4",
   "metadata": {},
   "outputs": [
    {
     "name": "stdout",
     "output_type": "stream",
     "text": [
      "   Pregnancies  Glucose  BloodPressure  SkinThickness  Insulin   BMI  \\\n",
      "0            6      148             72             35        0  33.6   \n",
      "1            1       85             66             29        0  26.6   \n",
      "2            8      183             64              0        0  23.3   \n",
      "3            1       89             66             23       94  28.1   \n",
      "4            0      137             40             35      168  43.1   \n",
      "\n",
      "   DiabetesPedigreeFunction  Age  Outcome  \n",
      "0                     0.627   50        1  \n",
      "1                     0.351   31        0  \n",
      "2                     0.672   32        1  \n",
      "3                     0.167   21        0  \n",
      "4                     2.288   33        1  \n",
      "\n",
      "=====================================================\n",
      "\n",
      "Pregnancies                 0\n",
      "Glucose                     0\n",
      "BloodPressure               0\n",
      "SkinThickness               0\n",
      "Insulin                     0\n",
      "BMI                         0\n",
      "DiabetesPedigreeFunction    0\n",
      "Age                         0\n",
      "dtype: int64\n",
      "\n",
      "=====================================================\n",
      "\n",
      "(537, 7)\n",
      "(537,)\n",
      "(231, 7)\n",
      "(231,)\n",
      "\n",
      "=====================================================\n",
      "\n"
     ]
    }
   ],
   "source": [
    "df = pd.read_csv(\"https://github.com/MyungKyuYi/AI-class/raw/main/diabetes.csv\")\n",
    "print(df.head())\n",
    "print(\"\\n=====================================================\\n\")\n",
    "\n",
    "df = df.drop(columns=['Outcome']) # Outcome 컬럼 삭제\n",
    "\n",
    "# 결측치 확인\n",
    "print(df.isnull().sum())\n",
    "print(\"\\n=====================================================\\n\")\n",
    "\n",
    "X = df.drop(['BMI'], axis=1).values # Feature\n",
    "Y = df['BMI'].values # 예측해야 할 컬럼\n",
    "\n",
    "# 학습 데이터 & 테스트 데이터 분할\n",
    "X_train, X_test, Y_train, Y_test = train_test_split(X, Y, test_size=0.3, random_state=15)\n",
    "\n",
    "# 분할된 데이터의 shape을 출력\n",
    "print(X_train.shape)\n",
    "print(Y_train.shape)\n",
    "print(X_test.shape)\n",
    "print(Y_test.shape)\n",
    "print(\"\\n=====================================================\\n\")\n",
    "\n",
    "# 데이터 표준화\n",
    "scaler = StandardScaler()\n",
    "X_train = scaler.fit_transform(X_train)\n",
    "X_test = scaler.transform(X_test)"
   ]
  },
  {
   "cell_type": "markdown",
   "id": "ad75a2df-b1b7-4e28-83a5-a7ce43eb6dc8",
   "metadata": {},
   "source": [
    "## Train & Test & Report"
   ]
  },
  {
   "cell_type": "code",
   "execution_count": 44,
   "id": "635ccd8f-43de-4648-b6e9-e4347e8c1364",
   "metadata": {},
   "outputs": [
    {
     "name": "stdout",
     "output_type": "stream",
     "text": [
      "LinearModel 평균제곱근오차 55.75902522987775\n",
      "\n",
      "=====================================================\n",
      "\n",
      "DecisionTreeModel 평균제곱근오차 96.89865800865799\n",
      "\n",
      "=====================================================\n",
      "\n",
      "RandomForestModel 평균제곱근오차 56.37892907792207\n",
      "\n",
      "=====================================================\n",
      "\n",
      "SVRModel 평균제곱근오차 53.98275588968201\n",
      "\n",
      "=====================================================\n",
      "\n"
     ]
    }
   ],
   "source": [
    "LinearModel = LinearRegression()\n",
    "LinearModel.fit(X_train, Y_train)\n",
    "LinearPreds = LinearModel.predict(X_test)\n",
    "print('LinearModel 평균제곱근오차', mean_squared_error(LinearPreds, Y_test))\n",
    "print(\"\\n=====================================================\\n\")\n",
    "\n",
    "# Decision Tree (DT)\n",
    "DTModel = DecisionTreeRegressor()\n",
    "DTModel.fit(X_train, Y_train)\n",
    "DTPreds = DTModel.predict(X_test)\n",
    "print('DecisionTreeModel 평균제곱근오차', mean_squared_error(DTPreds, Y_test))\n",
    "print(\"\\n=====================================================\\n\")\n",
    "\n",
    "# Random Forest (RF)\n",
    "RFModel = RandomForestRegressor()\n",
    "RFModel.fit(X_train, Y_train)\n",
    "RFPreds = RFModel.predict(X_test)\n",
    "print('RandomForestModel 평균제곱근오차', mean_squared_error(RFPreds, Y_test))\n",
    "print(\"\\n=====================================================\\n\")\n",
    "\n",
    "# Support Vector Regression (SVR)\n",
    "SVRModel = SVR()\n",
    "SVRModel.fit(X_train, Y_train)\n",
    "SVRPreds = SVRModel.predict(X_test)\n",
    "print('SVRModel 평균제곱근오차', mean_squared_error(SVRPreds, Y_test))\n",
    "print(\"\\n=====================================================\\n\")"
   ]
  },
  {
   "cell_type": "code",
   "execution_count": null,
   "id": "eb27e586-f94e-4aa9-983d-07718b5ac123",
   "metadata": {},
   "outputs": [],
   "source": []
  }
 ],
 "metadata": {
  "kernelspec": {
   "display_name": "Python [conda env:base] *",
   "language": "python",
   "name": "conda-base-py"
  },
  "language_info": {
   "codemirror_mode": {
    "name": "ipython",
    "version": 3
   },
   "file_extension": ".py",
   "mimetype": "text/x-python",
   "name": "python",
   "nbconvert_exporter": "python",
   "pygments_lexer": "ipython3",
   "version": "3.12.7"
  }
 },
 "nbformat": 4,
 "nbformat_minor": 5
}
