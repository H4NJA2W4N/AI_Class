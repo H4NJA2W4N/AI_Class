{
 "cells": [
  {
   "cell_type": "markdown",
   "id": "fb610061-1ab4-4522-97de-e98952956f56",
   "metadata": {},
   "source": [
    "# Diabetes Classification(DT, RF, SVM, LR, KNN)\n",
    "\n",
    "### Documentation for operation test of basic classification model(DT, RF, SVM, LR, KNN)\n",
    "### This code classifies diabetes data.\n",
    "\n",
    "## import Libraries"
   ]
  },
  {
   "cell_type": "code",
   "execution_count": 2,
   "id": "daeb590f-e02f-4a43-9bdd-a5a6fd25558a",
   "metadata": {},
   "outputs": [],
   "source": [
    "import pandas as pd\n",
    "from sklearn.model_selection import train_test_split\n",
    "from sklearn.preprocessing import StandardScaler\n",
    "from sklearn.tree import DecisionTreeClassifier\n",
    "from sklearn.ensemble import RandomForestClassifier\n",
    "from sklearn.svm import SVC\n",
    "from sklearn.linear_model import LogisticRegression\n",
    "from sklearn.neighbors import KNeighborsClassifier  # KNN 추가\n",
    "from sklearn.metrics import accuracy_score"
   ]
  },
  {
   "cell_type": "markdown",
   "id": "c19bee45-09bb-4d20-bef1-31c4ace5b7be",
   "metadata": {},
   "source": [
    "## Classification(Learning, Test)"
   ]
  },
  {
   "cell_type": "code",
   "execution_count": 3,
   "id": "462c8c1f-2e43-4cff-a0f6-4d0cc95179fc",
   "metadata": {},
   "outputs": [
    {
     "name": "stdout",
     "output_type": "stream",
     "text": [
      "   Pregnancies  Glucose  BloodPressure  SkinThickness  Insulin   BMI  \\\n",
      "0            6      148             72             35        0  33.6   \n",
      "1            1       85             66             29        0  26.6   \n",
      "2            8      183             64              0        0  23.3   \n",
      "3            1       89             66             23       94  28.1   \n",
      "4            0      137             40             35      168  43.1   \n",
      "\n",
      "   DiabetesPedigreeFunction  Age  Outcome  \n",
      "0                     0.627   50        1  \n",
      "1                     0.351   31        0  \n",
      "2                     0.672   32        1  \n",
      "3                     0.167   21        0  \n",
      "4                     2.288   33        1  \n",
      "Index(['Pregnancies', 'Glucose', 'BloodPressure', 'SkinThickness', 'Insulin',\n",
      "       'BMI', 'DiabetesPedigreeFunction', 'Age', 'Outcome'],\n",
      "      dtype='object')\n",
      "Decision Tree Accuracy: 0.7186147186147186\n",
      "Random Forest Accuracy: 0.7402597402597403\n",
      "SVM Accuracy: 0.7445887445887446\n",
      "Logistic Regression Accuracy: 0.7359307359307359\n",
      "KNN Accuracy: 0.7012987012987013\n"
     ]
    }
   ],
   "source": [
    "# 당뇨병 데이터 CSV파일 웹에서 읽어오기\n",
    "url = \"https://raw.githubusercontent.com/MyungKyuYi/AI-class/main/diabetes.csv\"\n",
    "df = pd.read_csv(url)\n",
    "\n",
    "# 데이터프레임 확인\n",
    "print(df.head())  # 데이터의 처음 5행을 출력한다.\n",
    "print(df.columns)  # 데이터의 컬럼명을 출력한다.\n",
    "\n",
    "# 데이터 준비\n",
    "X = df.drop('Outcome', axis=1) # 데이터 특성 (Outcome 컬럼 제외)\n",
    "Y = df['Outcome'] # 레이블 (Outcome 컬럼)\n",
    "\n",
    "# 데이터 분할 (Training Data 70%와 Test Data 30%)\n",
    "X_train, X_test, Y_train, Y_test = train_test_split(X, Y, test_size=0.3, random_state=42)\n",
    "\n",
    "# 데이터 표준화\n",
    "# SVM 모델과 LR 모델은 거리 기반 또는 경사 하강법을 사용하므로,\n",
    "# 특성 값의 범위 차이가 크면 학습이 제대로 되지 않거나 성능이 저하될 수 있기 때문에 표준화된 데이터를 사용해야 한다.\n",
    "# KNN 알고리즘 또한 거리 기반 알고리즘이므로 데이터 표준화가 필요하다.\n",
    "# df.describe() 함수를 통해 확인해 본 결과 표준화된 데이터가 아니므로 표준화를 진행한다.\n",
    "scaler = StandardScaler()\n",
    "X_train = scaler.fit_transform(X_train)\n",
    "X_test = scaler.transform(X_test)\n",
    "\n",
    "# Decision Tree (DT)\n",
    "dt_model = DecisionTreeClassifier() # DT 모델 생성.\n",
    "dt_model.fit(X_train, Y_train) # 모델 학습.\n",
    "dt_predictions = dt_model.predict(X_test) # 예측. 즉, dt_predictions에는 테스트 데이터 특성(X_test)에 따라 예측한 Y값이 들어있는 것.\n",
    "print(\"Decision Tree Accuracy:\", accuracy_score(Y_test, dt_predictions)) # 예측한 값과 실제 Y값을 비교하여 정확도 평가.\n",
    "\n",
    "# Random Forest (RF)\n",
    "rf_model = RandomForestClassifier() # RF 모델 생성.\n",
    "rf_model.fit(X_train, Y_train) # 모델 학습.\n",
    "rf_predictions = rf_model.predict(X_test) # 예측. 즉, rf_predictions에는 테스트 데이터 특성(X_test)에 따라 예측한 Y값이 들어있는 것.\n",
    "print(\"Random Forest Accuracy:\", accuracy_score(Y_test, rf_predictions)) # 예측한 값과 실제 Y값을 비교하여 정확도 평가.\n",
    "\n",
    "# Support Vector Machine (SVM)\n",
    "svm_model = SVC() # SVM 모델 생성.\n",
    "svm_model.fit(X_train, Y_train) # 모델 학습.\n",
    "svm_predictions = svm_model.predict(X_test) # 예측. 즉, svm_predictions에는 테스트 데이터 특성(X_test)에 따라 예측한 Y값이 들어있는 것.\n",
    "print(\"SVM Accuracy:\", accuracy_score(Y_test, svm_predictions)) # 예측한 값과 실제 Y값을 비교하여 정확도 평가.\n",
    "\n",
    "# Logistic Regression (LR)\n",
    "lr_model = LogisticRegression() # LR 모델 생성.\n",
    "lr_model.fit(X_train, Y_train) # 모델 학습.\n",
    "lr_predictions = lr_model.predict(X_test) # 예측. 즉, lr_predictions에는 테스트 데이터 특성(X_test)에 따라 예측한 Y값이 들어있는 것.\n",
    "print(\"Logistic Regression Accuracy:\", accuracy_score(Y_test, lr_predictions)) # 예측한 값과 실제 Y값을 비교하여 정확도 평가.\n",
    "\n",
    "# K-Nearest Neighbors (KNN) 추가 ⭐\n",
    "knn_model = KNeighborsClassifier(n_neighbors=5)  # 기본적으로 K=5 사용\n",
    "knn_model.fit(X_train, Y_train)\n",
    "knn_predictions = knn_model.predict(X_test)\n",
    "print(\"KNN Accuracy:\", accuracy_score(Y_test, knn_predictions))\n"
   ]
  },
  {
   "cell_type": "markdown",
   "id": "5d1ada9e-c931-4667-b4ae-fa16c8c31e1d",
   "metadata": {},
   "source": [
    "## Input new data and test"
   ]
  },
  {
   "cell_type": "code",
   "execution_count": 13,
   "id": "b2f0032c-1aa8-4d50-b45d-ef91104812dd",
   "metadata": {},
   "outputs": [
    {
     "name": "stdout",
     "output_type": "stream",
     "text": [
      "Decision Tree 예측 결과: [1]\n",
      "Random Forest 예측 결과: [1]\n",
      "SVM 예측 결과: [1]\n",
      "Logistic Regression 예측 결과: [1]\n",
      "K-nearest neighbors algorithm 예측 결과: [1]\n"
     ]
    }
   ],
   "source": [
    "# 새로운 데이터 입력\n",
    "new_data = {\n",
    "    'Pregnancies': [6.4],  # 임신 횟수\n",
    "    'Glucose': [145],   # 포도당 부하 검사 수치\n",
    "    'BloodPressure': [75],  # 혈압\n",
    "    'SkinThickness': [30], # 피하지방 측정값\n",
    "    'Insulin': [3], # 혈청 인슐린\n",
    "    'BMI': [33], # 체질량지수\n",
    "    'DiabetesPedigreeFunction': [0.6], # 당뇨 내력 가중치값\n",
    "    'Age':[41] # 나이\n",
    "}\n",
    "new_df = pd.DataFrame(new_data)\n",
    "\n",
    "# 새로운 데이터도 표준화 적용\n",
    "new_data_scaled = scaler.transform(new_df)\n",
    "\n",
    "# 예측 수행\n",
    "dt_pred = dt_model.predict(new_data_scaled)\n",
    "rf_pred = rf_model.predict(new_data_scaled)\n",
    "svm_pred = svm_model.predict(new_data_scaled)\n",
    "lr_pred = lr_model.predict(new_data_scaled)\n",
    "knn_pred = knn_model.predict(new_data_scaled)\n",
    "\n",
    "# 예측 결과 출력\n",
    "print(\"Decision Tree 예측 결과:\", dt_pred)\n",
    "print(\"Random Forest 예측 결과:\", rf_pred)\n",
    "print(\"SVM 예측 결과:\", svm_pred)\n",
    "print(\"Logistic Regression 예측 결과:\", lr_pred)\n",
    "print(\"K-nearest neighbors algorithm 예측 결과:\", knn_pred)"
   ]
  },
  {
   "cell_type": "markdown",
   "id": "1c5731ff-b7d9-4af2-aa4f-3e078c47385b",
   "metadata": {},
   "source": [
    "## Input new data from the user and test"
   ]
  },
  {
   "cell_type": "code",
   "execution_count": 17,
   "id": "d61df4c4-8c50-4540-9f35-2aa019ffae53",
   "metadata": {},
   "outputs": [
    {
     "name": "stdin",
     "output_type": "stream",
     "text": [
      "임신 횟수를 입력하세요:  6.4\n",
      "포도당 부하 검사 수치를 입력하세요:  145\n",
      "혈압을 입력하세요:  75\n",
      "피하지방 측정값을 입력하세요:  30\n",
      "혈청 인슐린 수치를 입력하세요:  3\n",
      "체질량지수를 입력하세요:  33\n",
      "당뇨 내력 가중치값을 입력하세요:  0.5\n",
      "나이를 입력하세요:  39\n"
     ]
    },
    {
     "name": "stdout",
     "output_type": "stream",
     "text": [
      "Decision Tree 예측 결과: [1]\n",
      "Random Forest 예측 결과: [1]\n",
      "SVM 예측 결과: [1]\n",
      "Logistic Regression 예측 결과: [1]\n",
      "K-nearest neighbors algorithm 예측 결과: [1]\n"
     ]
    }
   ],
   "source": [
    "# 사용자로부터 입력 받기\n",
    "Pregnancies = float(input(\"임신 횟수를 입력하세요: \"))\n",
    "Glucose = float(input(\"포도당 부하 검사 수치를 입력하세요: \"))\n",
    "BloodPressure = float(input(\"혈압을 입력하세요: \"))\n",
    "SkinThickness = float(input(\"피하지방 측정값을 입력하세요: \"))\n",
    "Insulin = float(input(\"혈청 인슐린 수치를 입력하세요: \"))\n",
    "BMI = float(input(\"체질량지수를 입력하세요: \"))\n",
    "DiabetesPedigreeFunction = float(input(\"당뇨 내력 가중치값을 입력하세요: \"))\n",
    "Age = float(input(\"나이를 입력하세요: \"))\n",
    "\n",
    "# 새로운 데이터 입력\n",
    "new_data = {\n",
    "    'Pregnancies': [Pregnancies],  # 임신 횟수\n",
    "    'Glucose': [Glucose],   # 포도당 부하 검사 수치\n",
    "    'BloodPressure': [BloodPressure],  # 혈압\n",
    "    'SkinThickness': [SkinThickness], # 피하지방 측정값\n",
    "    'Insulin': [Insulin], # 혈청 인슐린\n",
    "    'BMI': [BMI], # 체질량지수\n",
    "    'DiabetesPedigreeFunction': [DiabetesPedigreeFunction], # 당뇨 내력 가중치값\n",
    "    'Age':[Age] # 나이\n",
    "}\n",
    "new_df = pd.DataFrame(new_data)\n",
    "\n",
    "# 새로운 데이터도 표준화 적용\n",
    "new_data_scaled = scaler.transform(new_df)\n",
    "\n",
    "# 예측 수행\n",
    "dt_pred = dt_model.predict(new_data_scaled)\n",
    "rf_pred = rf_model.predict(new_data_scaled)\n",
    "svm_pred = svm_model.predict(new_data_scaled)\n",
    "lr_pred = lr_model.predict(new_data_scaled)\n",
    "knn_pred = knn_model.predict(new_data_scaled)\n",
    "\n",
    "# 예측 결과 출력\n",
    "print(\"Decision Tree 예측 결과:\", dt_pred)\n",
    "print(\"Random Forest 예측 결과:\", rf_pred)\n",
    "print(\"SVM 예측 결과:\", svm_pred)\n",
    "print(\"Logistic Regression 예측 결과:\", lr_pred)\n",
    "print(\"K-nearest neighbors algorithm 예측 결과:\", knn_pred)"
   ]
  },
  {
   "cell_type": "code",
   "execution_count": null,
   "id": "bc5275f9-87d3-4295-a936-eecbb6d8b838",
   "metadata": {},
   "outputs": [],
   "source": []
  }
 ],
 "metadata": {
  "kernelspec": {
   "display_name": "Python [conda env:base] *",
   "language": "python",
   "name": "conda-base-py"
  },
  "language_info": {
   "codemirror_mode": {
    "name": "ipython",
    "version": 3
   },
   "file_extension": ".py",
   "mimetype": "text/x-python",
   "name": "python",
   "nbconvert_exporter": "python",
   "pygments_lexer": "ipython3",
   "version": "3.12.7"
  }
 },
 "nbformat": 4,
 "nbformat_minor": 5
}
