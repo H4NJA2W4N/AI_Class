{
 "cells": [
  {
   "cell_type": "markdown",
   "id": "7fd90df1-b940-4fb8-9a2c-0a23491e7a96",
   "metadata": {},
   "source": [
    "# Y_pred, Y_test 비교\n",
    "\n",
    "\n",
    "\n",
    "#### 1. 모델을 학습하고 테스트하여 Y_pred값을 얻는다.\n",
    "#### * 붓꽃 데이터와 DT 모델을 사용하였다."
   ]
  },
  {
   "cell_type": "code",
   "execution_count": 26,
   "id": "309e1a17-412d-453e-8df0-61edacc4dccf",
   "metadata": {},
   "outputs": [],
   "source": [
    "import pandas as pd\n",
    "from sklearn.model_selection import train_test_split\n",
    "from sklearn.preprocessing import StandardScaler\n",
    "from sklearn.tree import DecisionTreeClassifier\n",
    "from sklearn.metrics import accuracy_score\n",
    "\n",
    "# 붓꽃 데이터 CSV 파일 읽기\n",
    "file_path = \"C:/Users/plo55/Downloads/iris.csv\"  # 본인이 iris.csv를 저장한 경로를 입력합니다.\n",
    "df = pd.read_csv(file_path)\n",
    "\n",
    "# 데이터프레임 확인\n",
    "# print(df.head())  # 데이터의 처음 5행을 출력한다.\n",
    "# print(df.columns)  # 데이터의 컬럼명을 출력한다.\n",
    "\n",
    "# 데이터 준비\n",
    "X = df.drop('Name', axis=1) # 데이터 특성 (Name 컬럼 제외)\n",
    "Y = df['Name'] # 레이블 (Name 컬럼)\n",
    "\n",
    "# 데이터 분할 (Training Data 70%와 Test Data 30%)\n",
    "X_train, X_test, Y_train, Y_test = train_test_split(X, Y, test_size=0.3, random_state=42)\n",
    "\n",
    "# 데이터 표준화\n",
    "# SVM 모델과 LR 모델은 거리 기반 또는 경사 하강법을 사용하므로,\n",
    "# 특성 값의 범위 차이가 크면 학습이 제대로 되지 않거나 성능이 저하될 수 있기 때문에 표준화된 데이터를 사용해야 한다.\n",
    "# df.describe() 함수를 통해 확인해 본 결과 표준화된 데이터가 아니므로 표준화를 진행한다.\n",
    "scaler = StandardScaler()\n",
    "X_train = scaler.fit_transform(X_train)\n",
    "X_test = scaler.transform(X_test)\n",
    "\n",
    "# Decision Tree (DT)\n",
    "dt_model = DecisionTreeClassifier() # DT 모델 생성.\n",
    "dt_model.fit(X_train, Y_train) # 모델 학습.\n",
    "Y_pred = dt_model.predict(X_test) # 예측. 즉, dt_predictions에는 테스트 데이터 특성(X_test)에 따라 예측한 Y값이 들어있는 것."
   ]
  },
  {
   "cell_type": "markdown",
   "id": "21cb76d3-7e97-4a61-92ef-d9e6c1a948d5",
   "metadata": {},
   "source": [
    "#### 2. Y_test, Y_pred, 정확성을 출력한다.\n",
    "\n",
    "#### 출력 결과, Y_test와 Y_pred가 일치함을 알 수 있다."
   ]
  },
  {
   "cell_type": "code",
   "execution_count": 29,
   "id": "ba8e4d8d-2ba0-4ed3-b550-2d446a1b17d0",
   "metadata": {},
   "outputs": [
    {
     "name": "stdout",
     "output_type": "stream",
     "text": [
      "\n",
      "=========================================================\n",
      "\n",
      "Y_test의 요소 10개 출력\n",
      "\n",
      "['Iris-versicolor', 'Iris-setosa', 'Iris-virginica', 'Iris-versicolor', 'Iris-versicolor', 'Iris-setosa', 'Iris-versicolor', 'Iris-virginica', 'Iris-versicolor', 'Iris-versicolor']\n",
      "\n",
      "=========================================================\n",
      "\n",
      "Y_pred의 요소 10개 출력\n",
      "\n",
      "['Iris-versicolor' 'Iris-setosa' 'Iris-virginica' 'Iris-versicolor'\n",
      " 'Iris-versicolor' 'Iris-setosa' 'Iris-versicolor' 'Iris-virginica'\n",
      " 'Iris-versicolor' 'Iris-versicolor']\n",
      "\n",
      "=========================================================\n",
      "\n",
      "정확도 출력\n",
      "\n",
      "Decision Tree Accuracy: 1.0\n"
     ]
    }
   ],
   "source": [
    "print(\"\\n=========================================================\\n\")\n",
    "print(\"Y_test의 요소 10개 출력\\n\") # 실제 테스트 데이터\n",
    "print(list(Y_test[:10]))\n",
    "print(\"\\n=========================================================\\n\")\n",
    "print(\"Y_pred의 요소 10개 출력\\n\") # DT 모델이 예측한 데이터\n",
    "print(Y_pred[:10])\n",
    "print(\"\\n=========================================================\\n\")\n",
    "print(\"정확도 출력\\n\")\n",
    "print(\"Decision Tree Accuracy:\", accuracy_score(Y_test, Y_pred)) # 예측한 값과 실제 Y값을 비교하여 정확도 평가."
   ]
  },
  {
   "cell_type": "code",
   "execution_count": null,
   "id": "7140cdb0-1a47-43bb-b66a-ce61b754f030",
   "metadata": {},
   "outputs": [],
   "source": []
  }
 ],
 "metadata": {
  "kernelspec": {
   "display_name": "Python [conda env:base] *",
   "language": "python",
   "name": "conda-base-py"
  },
  "language_info": {
   "codemirror_mode": {
    "name": "ipython",
    "version": 3
   },
   "file_extension": ".py",
   "mimetype": "text/x-python",
   "name": "python",
   "nbconvert_exporter": "python",
   "pygments_lexer": "ipython3",
   "version": "3.12.7"
  }
 },
 "nbformat": 4,
 "nbformat_minor": 5
}
