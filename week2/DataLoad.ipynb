{
 "cells": [
  {
   "cell_type": "markdown",
   "id": "adfe51e9-2003-4a40-8672-e9d0415123f8",
   "metadata": {},
   "source": [
    "# 데이터 파일 업로드 방법\n",
    "\n",
    "### 1. CSV 로컬 파일 읽기"
   ]
  },
  {
   "cell_type": "code",
   "execution_count": 12,
   "id": "5776896c-cb07-4d2a-9237-c55843da7e1b",
   "metadata": {},
   "outputs": [
    {
     "name": "stdout",
     "output_type": "stream",
     "text": [
      "   battery_power  blue  clock_speed  dual_sim  fc  four_g  int_memory  m_dep  \\\n",
      "0            842     0          2.2         0   1       0           7    0.6   \n",
      "1           1021     1          0.5         1   0       1          53    0.7   \n",
      "2            563     1          0.5         1   2       1          41    0.9   \n",
      "3            615     1          2.5         0   0       0          10    0.8   \n",
      "4           1821     1          1.2         0  13       1          44    0.6   \n",
      "\n",
      "   mobile_wt  n_cores  ...  px_height  px_width   ram  sc_h  sc_w  talk_time  \\\n",
      "0        188        2  ...         20       756  2549     9     7         19   \n",
      "1        136        3  ...        905      1988  2631    17     3          7   \n",
      "2        145        5  ...       1263      1716  2603    11     2          9   \n",
      "3        131        6  ...       1216      1786  2769    16     8         11   \n",
      "4        141        2  ...       1208      1212  1411     8     2         15   \n",
      "\n",
      "   three_g  touch_screen  wifi  price_range  \n",
      "0        0             0     1            1  \n",
      "1        1             1     0            2  \n",
      "2        1             1     0            2  \n",
      "3        1             0     0            2  \n",
      "4        1             1     0            1  \n",
      "\n",
      "[5 rows x 21 columns]\n"
     ]
    }
   ],
   "source": [
    "import pandas as pd\n",
    "\n",
    "\n",
    "# mobile 데이터 CSV 로컬 파일 읽기\n",
    "file_path = \"C:/Users/plo55/mobile.csv\"  # 본인이 mobile.csv를 저장한 경로를 입력합니다.\n",
    "df = pd.read_csv(file_path)\n",
    "# 데이터 확인\n",
    "print(df.head())  # 첫 5개 행 출력"
   ]
  },
  {
   "cell_type": "markdown",
   "id": "d8654d51-7a5f-44e5-a369-5b55767d275d",
   "metadata": {},
   "source": [
    "### 2. CSV 파일을 웹주소를 통해 읽기"
   ]
  },
  {
   "cell_type": "code",
   "execution_count": 15,
   "id": "bace043d-19e8-49b0-8d36-d4d4dbf04fab",
   "metadata": {},
   "outputs": [
    {
     "name": "stdout",
     "output_type": "stream",
     "text": [
      "   battery_power  blue  clock_speed  dual_sim  fc  four_g  int_memory  m_dep  \\\n",
      "0            842     0          2.2         0   1       0           7    0.6   \n",
      "1           1021     1          0.5         1   0       1          53    0.7   \n",
      "2            563     1          0.5         1   2       1          41    0.9   \n",
      "3            615     1          2.5         0   0       0          10    0.8   \n",
      "4           1821     1          1.2         0  13       1          44    0.6   \n",
      "\n",
      "   mobile_wt  n_cores  ...  px_height  px_width   ram  sc_h  sc_w  talk_time  \\\n",
      "0        188        2  ...         20       756  2549     9     7         19   \n",
      "1        136        3  ...        905      1988  2631    17     3          7   \n",
      "2        145        5  ...       1263      1716  2603    11     2          9   \n",
      "3        131        6  ...       1216      1786  2769    16     8         11   \n",
      "4        141        2  ...       1208      1212  1411     8     2         15   \n",
      "\n",
      "   three_g  touch_screen  wifi  price_range  \n",
      "0        0             0     1            1  \n",
      "1        1             1     0            2  \n",
      "2        1             1     0            2  \n",
      "3        1             0     0            2  \n",
      "4        1             1     0            1  \n",
      "\n",
      "[5 rows x 21 columns]\n"
     ]
    }
   ],
   "source": [
    "# mobile 데이터를 웹주소를 통해 읽어오기\n",
    "\n",
    "# Raw CSV URL\n",
    "url = \"https://github.com/MyungKyuYi/AI-class/raw/main/mobile.csv\"\n",
    "# CSV 파일 불러오기\n",
    "df = pd.read_csv(url)\n",
    "# 데이터 확인\n",
    "print(df.head())  # 첫 5개 행 출력"
   ]
  },
  {
   "cell_type": "markdown",
   "id": "729d9e82-e432-46da-aa02-ff9e08499c55",
   "metadata": {},
   "source": [
    "### 3. xlsx 로컬 파일 읽기"
   ]
  },
  {
   "cell_type": "code",
   "execution_count": 18,
   "id": "15dc21b3-230f-43d0-aa90-c93ef2e1156e",
   "metadata": {},
   "outputs": [
    {
     "name": "stdout",
     "output_type": "stream",
     "text": [
      "   Num.  subject_ID Sex(M/F)  Age(year)  Height(cm)  Weight(kg)  \\\n",
      "0     1           2   Female         45         152          63   \n",
      "1     1           2   Female         45         152          63   \n",
      "2     1           2   Female         45         152          63   \n",
      "3     2           3   Female         50         157          50   \n",
      "4     2           3   Female         50         157          50   \n",
      "\n",
      "   Systolic Blood Pressure(mmHg)  Diastolic Blood Pressure(mmHg)  \\\n",
      "0                            161                              89   \n",
      "1                            161                              89   \n",
      "2                            161                              89   \n",
      "3                            160                              93   \n",
      "4                            160                              93   \n",
      "\n",
      "   Heart Rate(b/m)  BMI(kg/m^2)  ...  2091  2092  2093  2094  2095  2096  \\\n",
      "0               97    27.268006  ...  1766  1766  1766  1833  1833  1827   \n",
      "1               97    27.268006  ...  1985  1985  2026  2026  2026  1977   \n",
      "2               97    27.268006  ...  1942  1900  1900  1938  1938  1938   \n",
      "3               76    20.284799  ...  2073  2072  2072  2072  2051  2051   \n",
      "4               76    20.284799  ...  2021  2010  2010  2010  2001  2001   \n",
      "\n",
      "   2097  2098  2099  2100  \n",
      "0  1827  1827  1754  1754  \n",
      "1  1977  1997  1997  1997  \n",
      "2  1924  1924  1929  1929  \n",
      "3  2036  2036  2036  2045  \n",
      "4  2003  2003  2003  1989  \n",
      "\n",
      "[5 rows x 2114 columns]\n"
     ]
    }
   ],
   "source": [
    "# 엑셀 파일 불러오기\n",
    "file_path = \"C:/Users/plo55/combined_dataset-1.xlsx\"\n",
    "df = pd.read_excel(file_path)\n",
    "# 데이터 확인\n",
    "print(df.head())  # 첫 5개 행 출력"
   ]
  },
  {
   "cell_type": "markdown",
   "id": "5fb20cde-7319-4888-b668-3a46219cb835",
   "metadata": {},
   "source": [
    "### 4. xlsx 파일을 웹주소를 통해 읽기"
   ]
  },
  {
   "cell_type": "code",
   "execution_count": 20,
   "id": "293bdb4b-ff75-4897-8177-278622e40bfd",
   "metadata": {},
   "outputs": [
    {
     "name": "stdout",
     "output_type": "stream",
     "text": [
      "   Num.  subject_ID Sex(M/F)  Age(year)  Height(cm)  Weight(kg)  \\\n",
      "0     1           2   Female         45         152          63   \n",
      "1     1           2   Female         45         152          63   \n",
      "2     1           2   Female         45         152          63   \n",
      "3     2           3   Female         50         157          50   \n",
      "4     2           3   Female         50         157          50   \n",
      "\n",
      "   Systolic Blood Pressure(mmHg)  Diastolic Blood Pressure(mmHg)  \\\n",
      "0                            161                              89   \n",
      "1                            161                              89   \n",
      "2                            161                              89   \n",
      "3                            160                              93   \n",
      "4                            160                              93   \n",
      "\n",
      "   Heart Rate(b/m)  BMI(kg/m^2)  ...  2091  2092  2093  2094  2095  2096  \\\n",
      "0               97    27.268006  ...  1766  1766  1766  1833  1833  1827   \n",
      "1               97    27.268006  ...  1985  1985  2026  2026  2026  1977   \n",
      "2               97    27.268006  ...  1942  1900  1900  1938  1938  1938   \n",
      "3               76    20.284799  ...  2073  2072  2072  2072  2051  2051   \n",
      "4               76    20.284799  ...  2021  2010  2010  2010  2001  2001   \n",
      "\n",
      "   2097  2098  2099  2100  \n",
      "0  1827  1827  1754  1754  \n",
      "1  1977  1997  1997  1997  \n",
      "2  1924  1924  1929  1929  \n",
      "3  2036  2036  2036  2045  \n",
      "4  2003  2003  2003  1989  \n",
      "\n",
      "[5 rows x 2114 columns]\n"
     ]
    }
   ],
   "source": [
    "url = \"https://github.com/MyungKyuYi/AI-class/raw/main/combined_dataset-1.xlsx\"\n",
    "df = pd.read_excel(url, engine=\"openpyxl\")  # engine 옵션 추가 (필요할 수도 있음)\n",
    "\n",
    "# 데이터 확인\n",
    "print(df.head())  # 첫 5개 행 출력"
   ]
  },
  {
   "cell_type": "code",
   "execution_count": null,
   "id": "f4eeb0aa-f781-4b91-88a0-fd8984bec857",
   "metadata": {},
   "outputs": [],
   "source": []
  }
 ],
 "metadata": {
  "kernelspec": {
   "display_name": "Python [conda env:base] *",
   "language": "python",
   "name": "conda-base-py"
  },
  "language_info": {
   "codemirror_mode": {
    "name": "ipython",
    "version": 3
   },
   "file_extension": ".py",
   "mimetype": "text/x-python",
   "name": "python",
   "nbconvert_exporter": "python",
   "pygments_lexer": "ipython3",
   "version": "3.12.7"
  }
 },
 "nbformat": 4,
 "nbformat_minor": 5
}
