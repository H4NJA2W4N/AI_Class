{
 "cells": [
  {
   "cell_type": "markdown",
   "id": "40fb8068-1e82-4992-9a00-8fd47b67fed9",
   "metadata": {},
   "source": [
    "# 당뇨병 회귀 문제 ( pytorch )\n",
    "\n",
    "## import Libraries"
   ]
  },
  {
   "cell_type": "code",
   "execution_count": 2,
   "id": "b5213489-3a04-4e95-adbd-82bcd261a482",
   "metadata": {},
   "outputs": [],
   "source": [
    "import pandas as pd\n",
    "import numpy as np\n",
    "from sklearn.model_selection import train_test_split\n",
    "from sklearn.preprocessing import StandardScaler\n",
    "from sklearn.metrics import mean_squared_error\n",
    "import torch\n",
    "from torch import nn\n",
    "from torch.utils.data import TensorDataset, DataLoader\n",
    "import torch.optim as optim"
   ]
  },
  {
   "cell_type": "markdown",
   "id": "82986e3c-1a0f-40ce-87aa-3c41615ff6a1",
   "metadata": {},
   "source": [
    "## 데이터 전처리 및 스케일링"
   ]
  },
  {
   "cell_type": "code",
   "execution_count": 4,
   "id": "b3e2e789-97a4-432f-a62d-84b6128eb56f",
   "metadata": {},
   "outputs": [
    {
     "name": "stdout",
     "output_type": "stream",
     "text": [
      "   Pregnancies  Glucose  BloodPressure  SkinThickness  Insulin   BMI  \\\n",
      "0            6      148             72             35        0  33.6   \n",
      "1            1       85             66             29        0  26.6   \n",
      "2            8      183             64              0        0  23.3   \n",
      "3            1       89             66             23       94  28.1   \n",
      "4            0      137             40             35      168  43.1   \n",
      "\n",
      "   DiabetesPedigreeFunction  Age  Outcome  \n",
      "0                     0.627   50        1  \n",
      "1                     0.351   31        0  \n",
      "2                     0.672   32        1  \n",
      "3                     0.167   21        0  \n",
      "4                     2.288   33        1  \n",
      "\n",
      "=====================================================\n",
      "\n",
      "Pregnancies                 0\n",
      "Glucose                     0\n",
      "BloodPressure               0\n",
      "SkinThickness               0\n",
      "Insulin                     0\n",
      "BMI                         0\n",
      "DiabetesPedigreeFunction    0\n",
      "Age                         0\n",
      "dtype: int64\n",
      "\n",
      "=====================================================\n",
      "\n",
      "(614, 7)\n",
      "(614,)\n",
      "(154, 7)\n",
      "(154,)\n",
      "\n",
      "=====================================================\n",
      "\n",
      "torch.Size([614, 7])\n",
      "torch.Size([614, 1])\n",
      "torch.Size([154, 7])\n",
      "torch.Size([154, 1])\n",
      "\n",
      "=====================================================\n",
      "\n"
     ]
    }
   ],
   "source": [
    "# 데이터 불러오기\n",
    "df = pd.read_csv(\"https://github.com/MyungKyuYi/AI-class/raw/main/diabetes.csv\")\n",
    "print(df.head())\n",
    "print(\"\\n=====================================================\\n\")\n",
    "\n",
    "df = df.drop(columns=['Outcome']) # 회귀 문제로 사용하기 위해 Outcome 컬럼 삭제\n",
    "\n",
    "# 결측치 확인\n",
    "print(df.isnull().sum())\n",
    "print(\"\\n=====================================================\\n\")\n",
    "\n",
    "X = df.drop(['BMI'], axis=1).values # Feature\n",
    "Y = df['BMI'].values.astype(np.float32) # 예측해야 할 column\n",
    "\n",
    "# 정규화\n",
    "scaler = StandardScaler()\n",
    "X = scaler.fit_transform(X)\n",
    "\n",
    "# 데이터 분할\n",
    "X_train, X_test, Y_train, Y_test = train_test_split(X, Y, test_size=0.2, random_state=42)\n",
    "\n",
    "# 분할된 데이터의 shape을 출력\n",
    "print(X_train.shape)\n",
    "print(Y_train.shape)\n",
    "print(X_test.shape)\n",
    "print(Y_test.shape)\n",
    "print(\"\\n=====================================================\\n\")\n",
    "\n",
    "# numpy 배열 --> torch tensor으로 변환\n",
    "X_train = torch.tensor(X_train, dtype=torch.float32)\n",
    "Y_train = torch.tensor(Y_train, dtype=torch.float32).view(-1, 1) # view(-1, 1) : (행, 1) 형태로 변환. 모델이 기대하는 입력 형태는 2차원 배열이기 때문이다.\n",
    "X_test = torch.tensor(X_test, dtype=torch.float32)\n",
    "Y_test = torch.tensor(Y_test, dtype=torch.float32).view(-1, 1)\n",
    "\n",
    "# torch tensor 데이터의 shape을 출력\n",
    "print(X_train.shape)\n",
    "print(Y_train.shape)\n",
    "print(X_test.shape)\n",
    "print(Y_test.shape)\n",
    "print(\"\\n=====================================================\\n\")\n",
    "\n",
    "# PyTorch DataLoader로 감싸서 미니배치 학습 가능하게 함\n",
    "train_dataset = TensorDataset(X_train, Y_train)\n",
    "test_dataset = TensorDataset(X_test, Y_test)\n",
    "train_loader = DataLoader(train_dataset, batch_size=32, shuffle=True) # 배치 사이즈는 32로 설정.\n",
    "test_loader = DataLoader(test_dataset, batch_size=32)"
   ]
  },
  {
   "cell_type": "markdown",
   "id": "2df66166-23f6-4688-8558-85a737ffdadd",
   "metadata": {},
   "source": [
    "## 모델 정의"
   ]
  },
  {
   "cell_type": "code",
   "execution_count": 17,
   "id": "6c1451d7-2e15-46c4-a1a0-ddce5bc59548",
   "metadata": {},
   "outputs": [],
   "source": [
    "# 회귀 모델 정의\n",
    "class RegressionModel(nn.Module):\n",
    "\n",
    "    def __init__(self):\n",
    "\n",
    "        super(RegressionModel, self).__init__()\n",
    "\n",
    "        self.fc1 = nn.Linear(7, 64)\n",
    "\n",
    "        self.fc2 = nn.Linear(64, 32)\n",
    "\n",
    "        self.fc3 = nn.Linear(32, 1)  # 회귀: 출력 1개\n",
    "\n",
    "\n",
    "\n",
    "    def forward(self, x):\n",
    "\n",
    "        x = torch.relu(self.fc1(x))\n",
    "\n",
    "        x = torch.relu(self.fc2(x))\n",
    "\n",
    "        x = self.fc3(x)  # 활성화 함수 없이 출력\n",
    "\n",
    "        return x\n",
    "\n",
    "device = torch.device(\"cuda\" if torch.cuda.is_available() else \"cpu\") # GPU가 있으면 GPU 사용, 아니면 CPU 사용한다는 뜻\n",
    "model = RegressionModel().to(device) # 모델 생성\n",
    "criterion = nn.MSELoss() # 회귀의 손실 함수 : MSELoss()\n",
    "optimizer = optim.Adam(model.parameters(), lr=0.001) # 옵티마이저 : Adam"
   ]
  },
  {
   "cell_type": "markdown",
   "id": "6e0666f1-1129-4def-bee1-085825a06355",
   "metadata": {},
   "source": [
    "## 모델 학습"
   ]
  },
  {
   "cell_type": "code",
   "execution_count": 20,
   "id": "a1accdf7-45d4-4479-8f7b-ac4c35cfcbf5",
   "metadata": {},
   "outputs": [
    {
     "name": "stdout",
     "output_type": "stream",
     "text": [
      "Epoch 1, Loss: 1046.4918\n",
      "Epoch 2, Loss: 998.5530\n",
      "Epoch 3, Loss: 905.9168\n",
      "Epoch 4, Loss: 741.5167\n",
      "Epoch 5, Loss: 530.5966\n",
      "Epoch 6, Loss: 310.5232\n",
      "Epoch 7, Loss: 161.8053\n",
      "Epoch 8, Loss: 101.6239\n",
      "Epoch 9, Loss: 103.4802\n",
      "Epoch 10, Loss: 85.0352\n",
      "Epoch 11, Loss: 80.3528\n",
      "Epoch 12, Loss: 75.7318\n",
      "Epoch 13, Loss: 72.7552\n",
      "Epoch 14, Loss: 72.5578\n",
      "Epoch 15, Loss: 68.0464\n",
      "Epoch 16, Loss: 66.6105\n",
      "Epoch 17, Loss: 64.4622\n",
      "Epoch 18, Loss: 64.5507\n",
      "Epoch 19, Loss: 64.7807\n",
      "Epoch 20, Loss: 69.5546\n",
      "Epoch 21, Loss: 59.3877\n",
      "Epoch 22, Loss: 58.5879\n",
      "Epoch 23, Loss: 56.5814\n",
      "Epoch 24, Loss: 55.9879\n",
      "Epoch 25, Loss: 57.0983\n",
      "Epoch 26, Loss: 52.1644\n",
      "Epoch 27, Loss: 52.5941\n",
      "Epoch 28, Loss: 51.2495\n",
      "Epoch 29, Loss: 49.9054\n",
      "Epoch 30, Loss: 49.3070\n",
      "Epoch 31, Loss: 48.9892\n",
      "Epoch 32, Loss: 49.2703\n",
      "Epoch 33, Loss: 48.4795\n",
      "Epoch 34, Loss: 47.0757\n",
      "Epoch 35, Loss: 45.3935\n",
      "Epoch 36, Loss: 46.0002\n",
      "Epoch 37, Loss: 45.1072\n",
      "Epoch 38, Loss: 46.7461\n",
      "Epoch 39, Loss: 44.0902\n",
      "Epoch 40, Loss: 43.5865\n",
      "Epoch 41, Loss: 43.0652\n",
      "Epoch 42, Loss: 43.4605\n",
      "Epoch 43, Loss: 41.7637\n",
      "Epoch 44, Loss: 41.5014\n",
      "Epoch 45, Loss: 41.4179\n",
      "Epoch 46, Loss: 42.5818\n",
      "Epoch 47, Loss: 41.5112\n",
      "Epoch 48, Loss: 41.5825\n",
      "Epoch 49, Loss: 41.7223\n",
      "Epoch 50, Loss: 41.0847\n"
     ]
    }
   ],
   "source": [
    "# 학습 루프\n",
    "model.train() # 학습 모드\n",
    "for epoch in range(50): # 50 epoch동안 훈련\n",
    "    total_loss = 0 # loss의 초기값은 당연히 0으로 설정\n",
    "    for X_batch, Y_batch in train_loader:\n",
    "        X_batch, Y_batch = X_batch.to(device), Y_batch.to(device)\n",
    "        optimizer.zero_grad()\n",
    "        output = model(X_batch) # 배치별로 예측 수행. output : 모델이 예측한 실제 수치값(회귀)\n",
    "        loss = criterion(output, Y_batch) # 예측값(output)과 실제 값(Y_batch)을 매치하여 loss 계산\n",
    "        loss.backward() # 역방향 전파로 가중치/편향 업데이트\n",
    "        optimizer.step()\n",
    "        total_loss += loss.item() # loss를 누적\n",
    "    print(f\"Epoch {epoch+1}, Loss: {total_loss / len(train_loader):.4f}\") # epoch마다 loss를 출력"
   ]
  },
  {
   "cell_type": "markdown",
   "id": "ed81acc3-da91-4d1d-aa49-2d0011e9d6ea",
   "metadata": {},
   "source": [
    "## 모델 평가"
   ]
  },
  {
   "cell_type": "code",
   "execution_count": 23,
   "id": "d23258f4-3606-440b-8a3a-0874ba21679c",
   "metadata": {},
   "outputs": [
    {
     "name": "stdout",
     "output_type": "stream",
     "text": [
      "Test MSE: 64.1628\n"
     ]
    }
   ],
   "source": [
    "# 평가\n",
    "model.eval() # 평가 모드\n",
    "preds, actuals = [], []\n",
    "with torch.no_grad():\n",
    "    for X_batch, Y_batch in test_loader:\n",
    "        X_batch = X_batch.to(device)\n",
    "        outputs = model(X_batch).cpu().numpy() # 예측값을 numpy 형태로 변환 후,\n",
    "        preds.extend(outputs) # preds 리스트에 예측값을 저장\n",
    "        actuals.extend(Y_batch.numpy()) # actuals 리스트에 실제 값을 저장\n",
    "\n",
    "mse = mean_squared_error(actuals, preds) # 실제 값과 예측 값의 mse를 계산하고 출력.\n",
    "print(f\"Test MSE: {mse:.4f}\")"
   ]
  },
  {
   "cell_type": "code",
   "execution_count": null,
   "id": "4a290cae-4b9c-417a-a2fa-6c59edbe0410",
   "metadata": {},
   "outputs": [],
   "source": []
  }
 ],
 "metadata": {
  "kernelspec": {
   "display_name": "Python (tensorflow_env)",
   "language": "python",
   "name": "tensorflow_env"
  },
  "language_info": {
   "codemirror_mode": {
    "name": "ipython",
    "version": 3
   },
   "file_extension": ".py",
   "mimetype": "text/x-python",
   "name": "python",
   "nbconvert_exporter": "python",
   "pygments_lexer": "ipython3",
   "version": "3.9.21"
  }
 },
 "nbformat": 4,
 "nbformat_minor": 5
}
