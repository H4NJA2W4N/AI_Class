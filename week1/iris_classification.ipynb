{
 "cells": [
  {
   "cell_type": "markdown",
   "id": "a71b16a2-8115-471f-9efb-0d24925dd94e",
   "metadata": {},
   "source": [
    "# Basic Classification model(DT, RF, SVM, LR)\n",
    "#### Documentation for operation test of basic classification model(DT, RF, SVM, LR)\n",
    "\n",
    "### Import Libraries"
   ]
  },
  {
   "cell_type": "code",
   "execution_count": 21,
   "id": "b4da224d-5b9b-4666-ab10-973f73421dda",
   "metadata": {},
   "outputs": [],
   "source": [
    "import pandas as pd\n",
    "from sklearn.model_selection import train_test_split\n",
    "from sklearn.preprocessing import StandardScaler\n",
    "from sklearn.tree import DecisionTreeClassifier\n",
    "from sklearn.ensemble import RandomForestClassifier\n",
    "from sklearn.svm import SVC\n",
    "from sklearn.linear_model import LogisticRegression\n",
    "from sklearn.metrics import accuracy_score"
   ]
  },
  {
   "cell_type": "markdown",
   "id": "9fdb5074-bf36-47a1-b213-92d2c325c3eb",
   "metadata": {},
   "source": [
    "## Classification(Learning, Test)"
   ]
  },
  {
   "cell_type": "code",
   "execution_count": 24,
   "id": "feffc55e-6c14-48ac-83f9-3e93810b71f9",
   "metadata": {},
   "outputs": [
    {
     "name": "stdout",
     "output_type": "stream",
     "text": [
      "   SepalLength  SepalWidth  PetalLength  PetalWidth         Name\n",
      "0          5.1         3.5          1.4         0.2  Iris-setosa\n",
      "1          4.9         3.0          1.4         0.2  Iris-setosa\n",
      "2          4.7         3.2          1.3         0.2  Iris-setosa\n",
      "3          4.6         3.1          1.5         0.2  Iris-setosa\n",
      "4          5.0         3.6          1.4         0.2  Iris-setosa\n",
      "Index(['SepalLength', 'SepalWidth', 'PetalLength', 'PetalWidth', 'Name'], dtype='object')\n",
      "Decision Tree Accuracy: 1.0\n",
      "Random Forest Accuracy: 1.0\n",
      "SVM Accuracy: 1.0\n",
      "Logistic Regression Accuracy: 1.0\n"
     ]
    }
   ],
   "source": [
    "# 붓꽃 데이터 CSV 파일 읽기\n",
    "file_path = \"C:/Users/plo55/Downloads/iris.csv\"  # 본인이 iris.csv를 저장한 경로를 입력합니다.\n",
    "df = pd.read_csv(file_path)\n",
    "\n",
    "# 데이터프레임 확인\n",
    "print(df.head())  # 데이터의 처음 5행을 출력한다.\n",
    "print(df.columns)  # 데이터의 컬럼명을 출력한다.\n",
    "\n",
    "# 데이터 준비\n",
    "X = df.drop('Name', axis=1) # 데이터 특성 (Name 컬럼 제외)\n",
    "Y = df['Name'] # 레이블 (Name 컬럼)\n",
    "\n",
    "# 데이터 분할 (Training Data 70%와 Test Data 30%)\n",
    "X_train, X_test, Y_train, Y_test = train_test_split(X, Y, test_size=0.3, random_state=42)\n",
    "\n",
    "# 데이터 표준화\n",
    "# SVM 모델과 LR 모델은 거리 기반 또는 경사 하강법을 사용하므로,\n",
    "# 특성 값의 범위 차이가 크면 학습이 제대로 되지 않거나 성능이 저하될 수 있기 때문에 표준화된 데이터를 사용해야 한다.\n",
    "# df.describe() 함수를 통해 확인해 본 결과 표준화된 데이터가 아니므로 표준화를 진행한다.\n",
    "scaler = StandardScaler()\n",
    "X_train = scaler.fit_transform(X_train)\n",
    "X_test = scaler.transform(X_test)\n",
    "\n",
    "# Decision Tree (DT)\n",
    "dt_model = DecisionTreeClassifier() # DT 모델 생성.\n",
    "dt_model.fit(X_train, Y_train) # 모델 학습.\n",
    "dt_predictions = dt_model.predict(X_test) # 예측. 즉, dt_predictions에는 테스트 데이터 특성(X_test)에 따라 예측한 Y값이 들어있는 것.\n",
    "print(\"Decision Tree Accuracy:\", accuracy_score(Y_test, dt_predictions)) # 예측한 값과 실제 Y값을 비교하여 정확도 평가.\n",
    "\n",
    "# Random Forest (RF)\n",
    "rf_model = RandomForestClassifier() # RF 모델 생성.\n",
    "rf_model.fit(X_train, Y_train) # 모델 학습.\n",
    "rf_predictions = rf_model.predict(X_test) # 예측. 즉, rf_predictions에는 테스트 데이터 특성(X_test)에 따라 예측한 Y값이 들어있는 것.\n",
    "print(\"Random Forest Accuracy:\", accuracy_score(Y_test, rf_predictions)) # 예측한 값과 실제 Y값을 비교하여 정확도 평가.\n",
    "\n",
    "# Support Vector Machine (SVM)\n",
    "svm_model = SVC() # SVM 모델 생성.\n",
    "svm_model.fit(X_train, Y_train) # 모델 학습.\n",
    "svm_predictions = svm_model.predict(X_test) # 예측. 즉, svm_predictions에는 테스트 데이터 특성(X_test)에 따라 예측한 Y값이 들어있는 것.\n",
    "print(\"SVM Accuracy:\", accuracy_score(Y_test, svm_predictions)) # 예측한 값과 실제 Y값을 비교하여 정확도 평가.\n",
    "\n",
    "# Logistic Regression (LR)\n",
    "lr_model = LogisticRegression() # LR 모델 생성.\n",
    "lr_model.fit(X_train, Y_train) # 모델 학습.\n",
    "lr_predictions = lr_model.predict(X_test) # 예측. 즉, lr_predictions에는 테스트 데이터 특성(X_test)에 따라 예측한 Y값이 들어있는 것.\n",
    "print(\"Logistic Regression Accuracy:\", accuracy_score(Y_test, lr_predictions)) # 예측한 값과 실제 Y값을 비교하여 정확도 평가."
   ]
  },
  {
   "cell_type": "markdown",
   "id": "0540f5bc-f701-4f2c-8e01-7b8e4d770aa0",
   "metadata": {},
   "source": [
    "## Input new data and test"
   ]
  },
  {
   "cell_type": "code",
   "execution_count": 27,
   "id": "6a9608ac-65ac-4ab7-af90-3551cbfc327e",
   "metadata": {},
   "outputs": [
    {
     "name": "stdout",
     "output_type": "stream",
     "text": [
      "Decision Tree 예측 결과: Iris-setosa\n",
      "Random Forest 예측 결과: Iris-setosa\n",
      "SVM 예측 결과: Iris-setosa\n",
      "Logistic Regression 예측 결과: Iris-setosa\n"
     ]
    }
   ],
   "source": [
    "# 새로운 데이터 입력\n",
    "new_data = {\n",
    "    'SepalLength': [5.1],  # 꽃받침 길이\n",
    "    'SepalWidth': [3.5],   # 꽃받침 너비\n",
    "    'PetalLength': [1.4],  # 꽃잎 길이\n",
    "    'PetalWidth': [0.2]    # 꽃잎 너비\n",
    "}\n",
    "new_df = pd.DataFrame(new_data)\n",
    "\n",
    "# 새로운 데이터도 표준화 적용\n",
    "new_data_scaled = scaler.transform(new_df)\n",
    "\n",
    "# 예측 수행\n",
    "dt_pred = dt_model.predict(new_data_scaled)\n",
    "rf_pred = rf_model.predict(new_data_scaled)\n",
    "svm_pred = svm_model.predict(new_data_scaled)\n",
    "lr_pred = lr_model.predict(new_data_scaled)\n",
    "\n",
    "# 예측 결과 출력\n",
    "print(\"Decision Tree 예측 결과:\", dt_pred[0])\n",
    "print(\"Random Forest 예측 결과:\", rf_pred[0])\n",
    "print(\"SVM 예측 결과:\", svm_pred[0])\n",
    "print(\"Logistic Regression 예측 결과:\", lr_pred[0])\n"
   ]
  },
  {
   "cell_type": "markdown",
   "id": "b50193cf-30c3-4ce6-b854-3326d15cd046",
   "metadata": {},
   "source": [
    "## Input new data from the user and test"
   ]
  },
  {
   "cell_type": "code",
   "execution_count": 30,
   "id": "37e94c14-ad90-4435-ac9c-8ef38e312e03",
   "metadata": {},
   "outputs": [
    {
     "name": "stdin",
     "output_type": "stream",
     "text": [
      "꽃받침 길이를 입력하세요:  3\n",
      "꽃받침 너비를 입력하세요:  4\n",
      "꽃잎 길이를 입력하세요:  5\n",
      "꽃잎 너비를 입력하세요:  6\n"
     ]
    },
    {
     "name": "stdout",
     "output_type": "stream",
     "text": [
      "Decision Tree 예측 결과: Iris-virginica\n",
      "Random Forest 예측 결과: Iris-virginica\n",
      "SVM 예측 결과: Iris-virginica\n",
      "Logistic Regression 예측 결과: Iris-virginica\n"
     ]
    }
   ],
   "source": [
    "# 사용자로부터 입력 받기\n",
    "SepalLength = float(input(\"꽃받침 길이를 입력하세요: \"))\n",
    "SepalWidth = float(input(\"꽃받침 너비를 입력하세요: \"))\n",
    "PetalLength = float(input(\"꽃잎 길이를 입력하세요: \"))\n",
    "PetalWidth = float(input(\"꽃잎 너비를 입력하세요: \"))\n",
    "\n",
    "# 새로운 데이터 입력\n",
    "new_data = {\n",
    "    'SepalLength': [SepalLength],\n",
    "    'SepalWidth': [SepalWidth],\n",
    "    'PetalLength': [PetalLength],\n",
    "    'PetalWidth': [PetalWidth]\n",
    "}\n",
    "new_df = pd.DataFrame(new_data)\n",
    "\n",
    "# 새로운 데이터도 표준화 적용\n",
    "new_data_scaled = scaler.transform(new_df)\n",
    "\n",
    "# 예측 수행\n",
    "dt_pred = dt_model.predict(new_data_scaled)\n",
    "rf_pred = rf_model.predict(new_data_scaled)\n",
    "svm_pred = svm_model.predict(new_data_scaled)\n",
    "lr_pred = lr_model.predict(new_data_scaled)\n",
    "\n",
    "# 예측 결과 출력\n",
    "print(\"Decision Tree 예측 결과:\", dt_pred[0])\n",
    "print(\"Random Forest 예측 결과:\", rf_pred[0])\n",
    "print(\"SVM 예측 결과:\", svm_pred[0])\n",
    "print(\"Logistic Regression 예측 결과:\", lr_pred[0]) "
   ]
  },
  {
   "cell_type": "code",
   "execution_count": null,
   "id": "48bd4049-7848-4b57-95c6-661655e1c9a5",
   "metadata": {},
   "outputs": [],
   "source": []
  }
 ],
 "metadata": {
  "kernelspec": {
   "display_name": "Python [conda env:base] *",
   "language": "python",
   "name": "conda-base-py"
  },
  "language_info": {
   "codemirror_mode": {
    "name": "ipython",
    "version": 3
   },
   "file_extension": ".py",
   "mimetype": "text/x-python",
   "name": "python",
   "nbconvert_exporter": "python",
   "pygments_lexer": "ipython3",
   "version": "3.12.7"
  }
 },
 "nbformat": 4,
 "nbformat_minor": 5
}
